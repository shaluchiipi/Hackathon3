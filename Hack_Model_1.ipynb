{
 "cells": [
  {
   "cell_type": "code",
   "execution_count": 129,
   "metadata": {},
   "outputs": [],
   "source": [
    "import pandas as pd\n",
    "import numpy as np\n",
    "import matplotlib\n",
    "%matplotlib inline\n",
    "import warnings\n",
    "warnings.filterwarnings('ignore')\n",
    "from sklearn.metrics import confusion_matrix,f1_score"
   ]
  },
  {
   "cell_type": "code",
   "execution_count": 130,
   "metadata": {},
   "outputs": [
    {
     "data": {
      "text/html": [
       "<div>\n",
       "<style scoped>\n",
       "    .dataframe tbody tr th:only-of-type {\n",
       "        vertical-align: middle;\n",
       "    }\n",
       "\n",
       "    .dataframe tbody tr th {\n",
       "        vertical-align: top;\n",
       "    }\n",
       "\n",
       "    .dataframe thead th {\n",
       "        text-align: right;\n",
       "    }\n",
       "</style>\n",
       "<table border=\"1\" class=\"dataframe\">\n",
       "  <thead>\n",
       "    <tr style=\"text-align: right;\">\n",
       "      <th></th>\n",
       "      <th>principal component 1</th>\n",
       "      <th>principal component 2</th>\n",
       "      <th>principal component 3</th>\n",
       "      <th>principal component 4</th>\n",
       "      <th>principal component 5</th>\n",
       "      <th>principal component 6</th>\n",
       "      <th>principal component 7</th>\n",
       "      <th>principal component 8</th>\n",
       "      <th>principal component 9</th>\n",
       "      <th>principal component 10</th>\n",
       "      <th>...</th>\n",
       "      <th>principal component 14</th>\n",
       "      <th>principal component 15</th>\n",
       "      <th>principal component 16</th>\n",
       "      <th>principal component 17</th>\n",
       "      <th>principal component 18</th>\n",
       "      <th>principal component 19</th>\n",
       "      <th>principal component 20</th>\n",
       "      <th>ID</th>\n",
       "      <th>TARGET1</th>\n",
       "      <th>TARGET</th>\n",
       "    </tr>\n",
       "  </thead>\n",
       "  <tbody>\n",
       "    <tr>\n",
       "      <th>0</th>\n",
       "      <td>4.156702</td>\n",
       "      <td>-0.939636</td>\n",
       "      <td>-0.891017</td>\n",
       "      <td>-2.682153</td>\n",
       "      <td>-1.650308</td>\n",
       "      <td>1.289457</td>\n",
       "      <td>-3.862679</td>\n",
       "      <td>-3.451789</td>\n",
       "      <td>1.566266</td>\n",
       "      <td>2.626448</td>\n",
       "      <td>...</td>\n",
       "      <td>0.371168</td>\n",
       "      <td>-0.491994</td>\n",
       "      <td>-1.543746</td>\n",
       "      <td>-0.149809</td>\n",
       "      <td>0.334036</td>\n",
       "      <td>1.544898</td>\n",
       "      <td>0.031054</td>\n",
       "      <td>142882</td>\n",
       "      <td>2807855.303</td>\n",
       "      <td>1.0</td>\n",
       "    </tr>\n",
       "    <tr>\n",
       "      <th>1</th>\n",
       "      <td>-1.708711</td>\n",
       "      <td>-0.376629</td>\n",
       "      <td>0.026695</td>\n",
       "      <td>-0.237419</td>\n",
       "      <td>-0.730520</td>\n",
       "      <td>0.240316</td>\n",
       "      <td>-0.674297</td>\n",
       "      <td>0.029415</td>\n",
       "      <td>-0.222598</td>\n",
       "      <td>-1.104547</td>\n",
       "      <td>...</td>\n",
       "      <td>0.056212</td>\n",
       "      <td>0.054695</td>\n",
       "      <td>-0.330661</td>\n",
       "      <td>-0.141436</td>\n",
       "      <td>0.018368</td>\n",
       "      <td>0.273320</td>\n",
       "      <td>0.227839</td>\n",
       "      <td>116073</td>\n",
       "      <td>0.000</td>\n",
       "      <td>0.0</td>\n",
       "    </tr>\n",
       "    <tr>\n",
       "      <th>2</th>\n",
       "      <td>8.911210</td>\n",
       "      <td>-0.862539</td>\n",
       "      <td>-0.618071</td>\n",
       "      <td>-3.107301</td>\n",
       "      <td>-3.677199</td>\n",
       "      <td>2.056153</td>\n",
       "      <td>-1.256020</td>\n",
       "      <td>-3.742548</td>\n",
       "      <td>2.140296</td>\n",
       "      <td>4.253356</td>\n",
       "      <td>...</td>\n",
       "      <td>0.144640</td>\n",
       "      <td>0.370062</td>\n",
       "      <td>-0.143246</td>\n",
       "      <td>-0.281820</td>\n",
       "      <td>-0.408889</td>\n",
       "      <td>-0.200952</td>\n",
       "      <td>0.023153</td>\n",
       "      <td>40727</td>\n",
       "      <td>0.000</td>\n",
       "      <td>0.0</td>\n",
       "    </tr>\n",
       "    <tr>\n",
       "      <th>3</th>\n",
       "      <td>2.137490</td>\n",
       "      <td>-3.416324</td>\n",
       "      <td>0.803450</td>\n",
       "      <td>4.072160</td>\n",
       "      <td>0.255350</td>\n",
       "      <td>-0.325482</td>\n",
       "      <td>2.745004</td>\n",
       "      <td>0.491631</td>\n",
       "      <td>-0.093186</td>\n",
       "      <td>0.356134</td>\n",
       "      <td>...</td>\n",
       "      <td>0.133624</td>\n",
       "      <td>-1.936436</td>\n",
       "      <td>1.002474</td>\n",
       "      <td>-1.408193</td>\n",
       "      <td>0.103298</td>\n",
       "      <td>-1.174440</td>\n",
       "      <td>-1.280386</td>\n",
       "      <td>96753</td>\n",
       "      <td>0.000</td>\n",
       "      <td>0.0</td>\n",
       "    </tr>\n",
       "    <tr>\n",
       "      <th>4</th>\n",
       "      <td>-1.689057</td>\n",
       "      <td>-0.330288</td>\n",
       "      <td>0.005043</td>\n",
       "      <td>-0.316986</td>\n",
       "      <td>-0.903165</td>\n",
       "      <td>0.311182</td>\n",
       "      <td>-0.814406</td>\n",
       "      <td>0.026727</td>\n",
       "      <td>-0.268808</td>\n",
       "      <td>-1.262762</td>\n",
       "      <td>...</td>\n",
       "      <td>0.055768</td>\n",
       "      <td>0.081791</td>\n",
       "      <td>-0.336995</td>\n",
       "      <td>-0.140550</td>\n",
       "      <td>0.003486</td>\n",
       "      <td>0.300149</td>\n",
       "      <td>0.195273</td>\n",
       "      <td>105319</td>\n",
       "      <td>0.000</td>\n",
       "      <td>0.0</td>\n",
       "    </tr>\n",
       "  </tbody>\n",
       "</table>\n",
       "<p>5 rows × 23 columns</p>\n",
       "</div>"
      ],
      "text/plain": [
       "   principal component 1  principal component 2  principal component 3  \\\n",
       "0               4.156702              -0.939636              -0.891017   \n",
       "1              -1.708711              -0.376629               0.026695   \n",
       "2               8.911210              -0.862539              -0.618071   \n",
       "3               2.137490              -3.416324               0.803450   \n",
       "4              -1.689057              -0.330288               0.005043   \n",
       "\n",
       "   principal component 4  principal component 5  principal component 6  \\\n",
       "0              -2.682153              -1.650308               1.289457   \n",
       "1              -0.237419              -0.730520               0.240316   \n",
       "2              -3.107301              -3.677199               2.056153   \n",
       "3               4.072160               0.255350              -0.325482   \n",
       "4              -0.316986              -0.903165               0.311182   \n",
       "\n",
       "   principal component 7  principal component 8  principal component 9  \\\n",
       "0              -3.862679              -3.451789               1.566266   \n",
       "1              -0.674297               0.029415              -0.222598   \n",
       "2              -1.256020              -3.742548               2.140296   \n",
       "3               2.745004               0.491631              -0.093186   \n",
       "4              -0.814406               0.026727              -0.268808   \n",
       "\n",
       "   principal component 10   ...    principal component 14  \\\n",
       "0                2.626448   ...                  0.371168   \n",
       "1               -1.104547   ...                  0.056212   \n",
       "2                4.253356   ...                  0.144640   \n",
       "3                0.356134   ...                  0.133624   \n",
       "4               -1.262762   ...                  0.055768   \n",
       "\n",
       "   principal component 15  principal component 16  principal component 17  \\\n",
       "0               -0.491994               -1.543746               -0.149809   \n",
       "1                0.054695               -0.330661               -0.141436   \n",
       "2                0.370062               -0.143246               -0.281820   \n",
       "3               -1.936436                1.002474               -1.408193   \n",
       "4                0.081791               -0.336995               -0.140550   \n",
       "\n",
       "   principal component 18  principal component 19  principal component 20  \\\n",
       "0                0.334036                1.544898                0.031054   \n",
       "1                0.018368                0.273320                0.227839   \n",
       "2               -0.408889               -0.200952                0.023153   \n",
       "3                0.103298               -1.174440               -1.280386   \n",
       "4                0.003486                0.300149                0.195273   \n",
       "\n",
       "       ID      TARGET1  TARGET  \n",
       "0  142882  2807855.303     1.0  \n",
       "1  116073        0.000     0.0  \n",
       "2   40727        0.000     0.0  \n",
       "3   96753        0.000     0.0  \n",
       "4  105319        0.000     0.0  \n",
       "\n",
       "[5 rows x 23 columns]"
      ]
     },
     "execution_count": 130,
     "metadata": {},
     "output_type": "execute_result"
    }
   ],
   "source": [
    "train = pd.read_csv(\"train_ready_for_model_ins.csv\")\n",
    "train.head()"
   ]
  },
  {
   "cell_type": "code",
   "execution_count": 131,
   "metadata": {},
   "outputs": [
    {
     "data": {
      "text/html": [
       "<div>\n",
       "<style scoped>\n",
       "    .dataframe tbody tr th:only-of-type {\n",
       "        vertical-align: middle;\n",
       "    }\n",
       "\n",
       "    .dataframe tbody tr th {\n",
       "        vertical-align: top;\n",
       "    }\n",
       "\n",
       "    .dataframe thead th {\n",
       "        text-align: right;\n",
       "    }\n",
       "</style>\n",
       "<table border=\"1\" class=\"dataframe\">\n",
       "  <thead>\n",
       "    <tr style=\"text-align: right;\">\n",
       "      <th></th>\n",
       "      <th>principal component 1</th>\n",
       "      <th>principal component 2</th>\n",
       "      <th>principal component 3</th>\n",
       "      <th>principal component 4</th>\n",
       "      <th>principal component 5</th>\n",
       "      <th>principal component 6</th>\n",
       "      <th>principal component 7</th>\n",
       "      <th>principal component 8</th>\n",
       "      <th>principal component 9</th>\n",
       "      <th>principal component 10</th>\n",
       "      <th>...</th>\n",
       "      <th>principal component 12</th>\n",
       "      <th>principal component 13</th>\n",
       "      <th>principal component 14</th>\n",
       "      <th>principal component 15</th>\n",
       "      <th>principal component 16</th>\n",
       "      <th>principal component 17</th>\n",
       "      <th>principal component 18</th>\n",
       "      <th>principal component 19</th>\n",
       "      <th>principal component 20</th>\n",
       "      <th>ID</th>\n",
       "    </tr>\n",
       "  </thead>\n",
       "  <tbody>\n",
       "    <tr>\n",
       "      <th>0</th>\n",
       "      <td>4.243311</td>\n",
       "      <td>-1.351888</td>\n",
       "      <td>-0.501955</td>\n",
       "      <td>-3.356226</td>\n",
       "      <td>-1.281131</td>\n",
       "      <td>0.525763</td>\n",
       "      <td>-0.497044</td>\n",
       "      <td>-3.833542</td>\n",
       "      <td>-3.786889</td>\n",
       "      <td>5.946890</td>\n",
       "      <td>...</td>\n",
       "      <td>0.259763</td>\n",
       "      <td>1.414199</td>\n",
       "      <td>-0.592963</td>\n",
       "      <td>0.647460</td>\n",
       "      <td>0.068508</td>\n",
       "      <td>-0.108315</td>\n",
       "      <td>1.994468</td>\n",
       "      <td>0.894911</td>\n",
       "      <td>-0.677514</td>\n",
       "      <td>64252</td>\n",
       "    </tr>\n",
       "    <tr>\n",
       "      <th>1</th>\n",
       "      <td>1.725746</td>\n",
       "      <td>-0.477560</td>\n",
       "      <td>-0.262628</td>\n",
       "      <td>-2.359657</td>\n",
       "      <td>1.788699</td>\n",
       "      <td>0.306651</td>\n",
       "      <td>0.063318</td>\n",
       "      <td>1.164027</td>\n",
       "      <td>0.438654</td>\n",
       "      <td>-1.984541</td>\n",
       "      <td>...</td>\n",
       "      <td>-0.502703</td>\n",
       "      <td>0.631971</td>\n",
       "      <td>-0.547617</td>\n",
       "      <td>0.041082</td>\n",
       "      <td>-0.210688</td>\n",
       "      <td>0.328673</td>\n",
       "      <td>0.810417</td>\n",
       "      <td>0.501021</td>\n",
       "      <td>-0.404309</td>\n",
       "      <td>31278</td>\n",
       "    </tr>\n",
       "    <tr>\n",
       "      <th>2</th>\n",
       "      <td>-1.645877</td>\n",
       "      <td>-0.346278</td>\n",
       "      <td>-0.208765</td>\n",
       "      <td>-0.849305</td>\n",
       "      <td>0.381880</td>\n",
       "      <td>-0.047531</td>\n",
       "      <td>-0.087066</td>\n",
       "      <td>-0.820992</td>\n",
       "      <td>-0.610055</td>\n",
       "      <td>-1.066480</td>\n",
       "      <td>...</td>\n",
       "      <td>-0.273242</td>\n",
       "      <td>0.235557</td>\n",
       "      <td>-0.183462</td>\n",
       "      <td>0.334006</td>\n",
       "      <td>0.010562</td>\n",
       "      <td>-0.143212</td>\n",
       "      <td>0.134405</td>\n",
       "      <td>0.028112</td>\n",
       "      <td>0.098541</td>\n",
       "      <td>148245</td>\n",
       "    </tr>\n",
       "    <tr>\n",
       "      <th>3</th>\n",
       "      <td>-1.022190</td>\n",
       "      <td>0.080477</td>\n",
       "      <td>-0.180327</td>\n",
       "      <td>-0.757586</td>\n",
       "      <td>0.652738</td>\n",
       "      <td>-0.114229</td>\n",
       "      <td>-0.074529</td>\n",
       "      <td>-0.922882</td>\n",
       "      <td>-0.620837</td>\n",
       "      <td>-0.991713</td>\n",
       "      <td>...</td>\n",
       "      <td>-0.214943</td>\n",
       "      <td>-0.581002</td>\n",
       "      <td>0.236269</td>\n",
       "      <td>-0.354707</td>\n",
       "      <td>-0.357249</td>\n",
       "      <td>0.230267</td>\n",
       "      <td>-0.137424</td>\n",
       "      <td>-0.191651</td>\n",
       "      <td>-0.212951</td>\n",
       "      <td>133657</td>\n",
       "    </tr>\n",
       "    <tr>\n",
       "      <th>4</th>\n",
       "      <td>-1.375740</td>\n",
       "      <td>-0.114235</td>\n",
       "      <td>-0.245042</td>\n",
       "      <td>-1.179933</td>\n",
       "      <td>0.451596</td>\n",
       "      <td>-0.028642</td>\n",
       "      <td>-0.115877</td>\n",
       "      <td>-1.132067</td>\n",
       "      <td>-0.705358</td>\n",
       "      <td>-1.411288</td>\n",
       "      <td>...</td>\n",
       "      <td>-0.009344</td>\n",
       "      <td>0.269595</td>\n",
       "      <td>-0.132203</td>\n",
       "      <td>0.363560</td>\n",
       "      <td>-0.023478</td>\n",
       "      <td>-0.128083</td>\n",
       "      <td>0.193353</td>\n",
       "      <td>0.061192</td>\n",
       "      <td>0.066576</td>\n",
       "      <td>68463</td>\n",
       "    </tr>\n",
       "  </tbody>\n",
       "</table>\n",
       "<p>5 rows × 21 columns</p>\n",
       "</div>"
      ],
      "text/plain": [
       "   principal component 1  principal component 2  principal component 3  \\\n",
       "0               4.243311              -1.351888              -0.501955   \n",
       "1               1.725746              -0.477560              -0.262628   \n",
       "2              -1.645877              -0.346278              -0.208765   \n",
       "3              -1.022190               0.080477              -0.180327   \n",
       "4              -1.375740              -0.114235              -0.245042   \n",
       "\n",
       "   principal component 4  principal component 5  principal component 6  \\\n",
       "0              -3.356226              -1.281131               0.525763   \n",
       "1              -2.359657               1.788699               0.306651   \n",
       "2              -0.849305               0.381880              -0.047531   \n",
       "3              -0.757586               0.652738              -0.114229   \n",
       "4              -1.179933               0.451596              -0.028642   \n",
       "\n",
       "   principal component 7  principal component 8  principal component 9  \\\n",
       "0              -0.497044              -3.833542              -3.786889   \n",
       "1               0.063318               1.164027               0.438654   \n",
       "2              -0.087066              -0.820992              -0.610055   \n",
       "3              -0.074529              -0.922882              -0.620837   \n",
       "4              -0.115877              -1.132067              -0.705358   \n",
       "\n",
       "   principal component 10   ...    principal component 12  \\\n",
       "0                5.946890   ...                  0.259763   \n",
       "1               -1.984541   ...                 -0.502703   \n",
       "2               -1.066480   ...                 -0.273242   \n",
       "3               -0.991713   ...                 -0.214943   \n",
       "4               -1.411288   ...                 -0.009344   \n",
       "\n",
       "   principal component 13  principal component 14  principal component 15  \\\n",
       "0                1.414199               -0.592963                0.647460   \n",
       "1                0.631971               -0.547617                0.041082   \n",
       "2                0.235557               -0.183462                0.334006   \n",
       "3               -0.581002                0.236269               -0.354707   \n",
       "4                0.269595               -0.132203                0.363560   \n",
       "\n",
       "   principal component 16  principal component 17  principal component 18  \\\n",
       "0                0.068508               -0.108315                1.994468   \n",
       "1               -0.210688                0.328673                0.810417   \n",
       "2                0.010562               -0.143212                0.134405   \n",
       "3               -0.357249                0.230267               -0.137424   \n",
       "4               -0.023478               -0.128083                0.193353   \n",
       "\n",
       "   principal component 19  principal component 20      ID  \n",
       "0                0.894911               -0.677514   64252  \n",
       "1                0.501021               -0.404309   31278  \n",
       "2                0.028112                0.098541  148245  \n",
       "3               -0.191651               -0.212951  133657  \n",
       "4                0.061192                0.066576   68463  \n",
       "\n",
       "[5 rows x 21 columns]"
      ]
     },
     "execution_count": 131,
     "metadata": {},
     "output_type": "execute_result"
    }
   ],
   "source": [
    "test = pd.read_csv(\"test_ready_for_model_ins.csv\")\n",
    "test.head()"
   ]
  },
  {
   "cell_type": "code",
   "execution_count": 125,
   "metadata": {},
   "outputs": [
    {
     "data": {
      "text/plain": [
       "0.0    12715\n",
       "1.0     1284\n",
       "Name: TARGET, dtype: int64"
      ]
     },
     "execution_count": 125,
     "metadata": {},
     "output_type": "execute_result"
    }
   ],
   "source": [
    "train.TARGET.value_counts()"
   ]
  },
  {
   "cell_type": "code",
   "execution_count": 122,
   "metadata": {},
   "outputs": [
    {
     "data": {
      "text/plain": [
       "(5806, 26)"
      ]
     },
     "execution_count": 122,
     "metadata": {},
     "output_type": "execute_result"
    }
   ],
   "source": [
    "test.shape"
   ]
  },
  {
   "cell_type": "code",
   "execution_count": 132,
   "metadata": {},
   "outputs": [],
   "source": [
    "ss = pd.read_csv(\"Result Evaluation.csv\")\n",
    "#ss.TARGET.value_counts()"
   ]
  },
  {
   "cell_type": "code",
   "execution_count": 133,
   "metadata": {},
   "outputs": [
    {
     "data": {
      "text/plain": [
       "0.0    5282\n",
       "1.0     524\n",
       "Name: TARGET, dtype: int64"
      ]
     },
     "execution_count": 133,
     "metadata": {},
     "output_type": "execute_result"
    }
   ],
   "source": [
    "ss['TARGET1']=ss.TARGET\n",
    "ss.loc[ss['TARGET']!=0.000,'TARGET']=1\n",
    "ss['TARGET']=ss.TARGET.astype('float64')\n",
    "ss.TARGET.value_counts()"
   ]
  },
  {
   "cell_type": "code",
   "execution_count": 134,
   "metadata": {},
   "outputs": [],
   "source": [
    "#Define target and ID columns:\n",
    "target = 'TARGET'\n",
    "target1 = 'TARGET1'\n",
    "IDcol = ['ID']\n",
    "\n",
    "def modelfit(alg,dtrain,dtest,predictors,target,IDcol,filename):\n",
    "    from sklearn.metrics import confusion_matrix\n",
    "    #fit the algorithm on the data\n",
    "    alg.fit(dtrain[predictors],dtrain[target])\n",
    "    \n",
    "    #predict training set\n",
    "    dtrain_predictions=alg.predict(dtrain[predictors])\n",
    "    \n",
    "    #Error Metrics\n",
    "    #confusion_matrix = confusion_matrix(dtrain[target], dtrain_predictions)\n",
    "    #print(confusion_matrix)\n",
    "    \n",
    "    #Accuracy Train\n",
    "    #print('Accuracy of classifier on train set: {:.2f}'.format(alg.score(dtrain[predictors],dtrain[target])))\n",
    "    \n",
    "    #F1 SCORE\n",
    "    print('F1 SCORE train',f1_score(dtrain[target],dtrain_predictions,average='weighted'))\n",
    "    \n",
    "    #predict test set\n",
    "    dtest[target]=alg.predict(dtest[predictors])\n",
    "    \n",
    "    #F1 SCORE\n",
    "    print('F1 SCORE test',f1_score(ss.TARGET,dtest[target],average='weighted'))\n",
    "    \n",
    "    #Error Metrics\n",
    "    #confusion_matrix = confusion_matrix(ss.TARGET,dtest[target])\n",
    "    #print(confusion_matrix)\n",
    "       \n",
    "    #Export Submission File:\n",
    "    IDcol.append(target)\n",
    "\n",
    "    submission=pd.DataFrame({x:dtest[x] for x in IDcol})\n",
    "    #submission=pd.DataFrame(dtest['Loan_ID'])\n",
    "    #submission['Loan_Status']=dtest[target]\n",
    "    #submission['Loan_Status']=submission.Loan_Status.replace({1:'Y',0:'N'})\n",
    "    submission.to_csv(filename,index=False)\n",
    "    #dtest.to_csv(filename,index=False)\n",
    "    "
   ]
  },
  {
   "cell_type": "code",
   "execution_count": 135,
   "metadata": {},
   "outputs": [
    {
     "name": "stdout",
     "output_type": "stream",
     "text": [
      "Predictors: ['principal component 1', 'principal component 2', 'principal component 3', 'principal component 4', 'principal component 5', 'principal component 6', 'principal component 7', 'principal component 8', 'principal component 9', 'principal component 10', 'principal component 11', 'principal component 12', 'principal component 13', 'principal component 14', 'principal component 15', 'principal component 16', 'principal component 17', 'principal component 18', 'principal component 19', 'principal component 20', 'ID']\n",
      "F1 SCORE train 0.8646230107784841\n",
      "F1 SCORE test 0.8667553692527856\n"
     ]
    }
   ],
   "source": [
    "#1.Logistic Regression\n",
    "from sklearn.linear_model import LogisticRegression\n",
    "predictors=[x for x in train.columns if x not in [IDcol,target,target1]]\n",
    "print('Predictors:',predictors)\n",
    "alg1=LogisticRegression()\n",
    "modelfit(alg1,train,test,predictors,target,IDcol,'res2.csv')\n",
    "#logreg = LogisticRegression()\n",
    "#logreg.fit(X,Y)"
   ]
  },
  {
   "cell_type": "code",
   "execution_count": 136,
   "metadata": {},
   "outputs": [
    {
     "data": {
      "text/plain": [
       "0.0    5806\n",
       "Name: TARGET, dtype: int64"
      ]
     },
     "execution_count": 136,
     "metadata": {},
     "output_type": "execute_result"
    }
   ],
   "source": [
    "#test.TARGET.value_counts()\n",
    "res = pd.read_csv(\"res2.csv\")\n",
    "res.TARGET.value_counts()"
   ]
  },
  {
   "cell_type": "code",
   "execution_count": null,
   "metadata": {},
   "outputs": [],
   "source": [
    "#Define target and ID columns:\n",
    "target = 'TARGET'\n",
    "target1 = 'TARGET1'\n",
    "IDcol = ['ID']\n",
    "\n",
    "def modelfit(alg,dtrain,dtest,predictors,target,IDcol,filename):\n",
    "    from sklearn.metrics import confusion_matrix\n",
    "    #fit the algorithm on the data\n",
    "    alg.fit(dtrain[predictors],dtrain[target])\n",
    "    \n",
    "    #predict training set\n",
    "    dtrain_predictions=alg.predict(dtrain[predictors])\n",
    "    \n",
    "    #Error Metrics\n",
    "    confusion_matrix = confusion_matrix(dtrain[target], dtrain_predictions)\n",
    "    print(confusion_matrix)\n",
    "    \n",
    "    #Accuracy Train\n",
    "    print('Accuracy of classifier on train set: {:.2f}'.format(alg.score(dtrain[predictors],dtrain[target])))\n",
    "    \n",
    "    #F1 SCORE\n",
    "    print('F1 SCORE train',f1_score(dtrain[target],dtrain_predictions,average='weighted'))\n",
    "    \n",
    "    #predict test set\n",
    "    dtest[target]=alg.predict(dtest[predictors])\n",
    "    \n",
    "    #F1 SCORE\n",
    "    print('F1 SCORE test',f1_score(ss.TARGET,dtest[target],average='weighted'))\n",
    "    \n",
    "    #Error Metrics\n",
    "    #confusion_matrix = confusion_matrix(ss.TARGET,dtest[target])\n",
    "    #print(confusion_matrix)\n",
    "       \n",
    "    #Export Submission File:\n",
    "    IDcol.append(target)\n",
    "\n",
    "    submission=pd.DataFrame({x:dtest[x] for x in IDcol})\n",
    "    #submission=pd.DataFrame(dtest['Loan_ID'])\n",
    "    #submission['Loan_Status']=dtest[target]\n",
    "    #submission['Loan_Status']=submission.Loan_Status.replace({1:'Y',0:'N'})\n",
    "    submission.to_csv(filename,index=False)\n",
    "    #dtest.to_csv(filename,index=False)\n",
    "    "
   ]
  },
  {
   "cell_type": "code",
   "execution_count": null,
   "metadata": {},
   "outputs": [],
   "source": [
    "from sklearn.linear_model import LinearRegression\n",
    "predictors = [x for x in train.columns if x not in [target]+IDcol]\n",
    "print(\"predictors : \",predictors)\n",
    "# print predictors\n",
    "alg1 = LinearRegression(normalize=True)\n",
    "modelfit(alg1, train, test, predictors, target, IDcol, 'res2.csv')\n",
    "coef1 = pd.Series(alg1.coef_, predictors).sort_values()\n",
    "coef1.plot(kind='bar', title='Model Coefficients')"
   ]
  },
  {
   "cell_type": "code",
   "execution_count": 173,
   "metadata": {},
   "outputs": [
    {
     "name": "stdout",
     "output_type": "stream",
     "text": [
      "Predictors: ['ApplicantIncome', 'CoapplicantIncome', 'LoanAmount', 'Loan_Amount_Term', 'Credit_History', 'Gender_Female', 'Gender_Male', 'Married_No', 'Married_Yes', 'Dependents_0', 'Dependents_1', 'Dependents_2', 'Dependents_3+', 'Education_Graduate', 'Education_Not Graduate', 'Self_Employed_No', 'Self_Employed_Yes', 'Property_Area_Rural', 'Property_Area_Semiurban', 'Property_Area_Urban']\n",
      "[[192   0]\n",
      " [  0 422]]\n",
      "Accuracy of classifier on train set: 1.00\n",
      "[[192   0]\n",
      " [124 298]]\n",
      "Accuracy of classifier on train set: 0.80\n",
      "[[ 99  93]\n",
      " [ 43 379]]\n",
      "Accuracy of classifier on train set: 0.78\n",
      "[[122  70]\n",
      " [ 85 337]]\n",
      "Accuracy of classifier on train set: 0.75\n",
      "[[ 64 128]\n",
      " [ 38 384]]\n",
      "Accuracy of classifier on train set: 0.73\n",
      "[[ 93  99]\n",
      " [ 72 350]]\n",
      "Accuracy of classifier on train set: 0.72\n",
      "[[ 50 142]\n",
      " [ 26 396]]\n",
      "Accuracy of classifier on train set: 0.73\n",
      "[[ 63 129]\n",
      " [ 56 366]]\n",
      "Accuracy of classifier on train set: 0.70\n",
      "[[ 37 155]\n",
      " [ 21 401]]\n",
      "Accuracy of classifier on train set: 0.71\n",
      "[[ 54 138]\n",
      " [ 37 385]]\n",
      "Accuracy of classifier on train set: 0.71\n",
      "[[ 28 164]\n",
      " [ 20 402]]\n",
      "Accuracy of classifier on train set: 0.70\n",
      "[[ 40 152]\n",
      " [ 34 388]]\n",
      "Accuracy of classifier on train set: 0.70\n",
      "[[ 29 163]\n",
      " [ 17 405]]\n",
      "Accuracy of classifier on train set: 0.71\n",
      "[[ 40 152]\n",
      " [ 27 395]]\n",
      "Accuracy of classifier on train set: 0.71\n",
      "[[ 27 165]\n",
      " [ 17 405]]\n",
      "Accuracy of classifier on train set: 0.70\n",
      "[[ 39 153]\n",
      " [ 34 388]]\n",
      "Accuracy of classifier on train set: 0.70\n",
      "[[ 25 167]\n",
      " [ 24 398]]\n",
      "Accuracy of classifier on train set: 0.69\n",
      "[[ 34 158]\n",
      " [ 29 393]]\n",
      "Accuracy of classifier on train set: 0.70\n",
      "[[ 28 164]\n",
      " [ 19 403]]\n",
      "Accuracy of classifier on train set: 0.70\n"
     ]
    }
   ],
   "source": [
    "#2.KNN\n",
    "from sklearn.neighbors import KNeighborsClassifier\n",
    "#k = 5\n",
    "predictors=[x for x in train.columns if x not in [target]+IDcol]\n",
    "print('Predictors:',predictors)\n",
    "for i in range(1,20):\n",
    "    alg1=KNeighborsClassifier(n_neighbors = i)\n",
    "    modelfit(alg1,train,test,predictors,target,IDcol,'res_KNN.csv')"
   ]
  },
  {
   "cell_type": "code",
   "execution_count": 161,
   "metadata": {},
   "outputs": [
    {
     "name": "stdout",
     "output_type": "stream",
     "text": [
      "Predictors: ['ApplicantIncome', 'CoapplicantIncome', 'LoanAmount', 'Loan_Amount_Term', 'Credit_History', 'Gender_Female', 'Gender_Male', 'Married_No', 'Married_Yes', 'Dependents_0', 'Dependents_1', 'Dependents_2', 'Dependents_3+', 'Education_Graduate', 'Education_Not Graduate', 'Self_Employed_No', 'Self_Employed_Yes', 'Property_Area_Rural', 'Property_Area_Semiurban', 'Property_Area_Urban']\n",
      "[[ 82 110]\n",
      " [  7 415]]\n",
      "Accuracy of classifier on test set: 0.81\n"
     ]
    }
   ],
   "source": [
    "#3.Decision Tree\n",
    "from sklearn.tree import DecisionTreeClassifier\n",
    "#k = 5\n",
    "predictors=[x for x in train.columns if x not in [target]+IDcol]\n",
    "print('Predictors:',predictors)\n",
    "alg1=DecisionTreeClassifier(max_depth=10, min_samples_leaf=60)\n",
    "modelfit(alg1,train,test,predictors,target,IDcol,'res_DesTree.csv')"
   ]
  },
  {
   "cell_type": "code",
   "execution_count": 139,
   "metadata": {},
   "outputs": [],
   "source": [
    "grid_param= {'n_estimators': [50, 80,100,200,300],\n",
    "             'criterion' : ['gini','entropy'],\n",
    "             'max_depth':[3,5,10,18,20,30]}"
   ]
  },
  {
   "cell_type": "code",
   "execution_count": 143,
   "metadata": {},
   "outputs": [],
   "source": []
  },
  {
   "cell_type": "code",
   "execution_count": 144,
   "metadata": {},
   "outputs": [
    {
     "data": {
      "text/plain": [
       "{'cv': 3,\n",
       " 'error_score': 'raise',\n",
       " 'estimator__bootstrap': True,\n",
       " 'estimator__class_weight': None,\n",
       " 'estimator__criterion': 'gini',\n",
       " 'estimator__max_depth': None,\n",
       " 'estimator__max_features': 'auto',\n",
       " 'estimator__max_leaf_nodes': None,\n",
       " 'estimator__min_impurity_decrease': 0.0,\n",
       " 'estimator__min_impurity_split': None,\n",
       " 'estimator__min_samples_leaf': 1,\n",
       " 'estimator__min_samples_split': 2,\n",
       " 'estimator__min_weight_fraction_leaf': 0.0,\n",
       " 'estimator__n_estimators': 10,\n",
       " 'estimator__n_jobs': 1,\n",
       " 'estimator__oob_score': False,\n",
       " 'estimator__random_state': None,\n",
       " 'estimator__verbose': 0,\n",
       " 'estimator__warm_start': False,\n",
       " 'estimator': RandomForestClassifier(bootstrap=True, class_weight=None, criterion='gini',\n",
       "             max_depth=None, max_features='auto', max_leaf_nodes=None,\n",
       "             min_impurity_decrease=0.0, min_impurity_split=None,\n",
       "             min_samples_leaf=1, min_samples_split=2,\n",
       "             min_weight_fraction_leaf=0.0, n_estimators=10, n_jobs=1,\n",
       "             oob_score=False, random_state=None, verbose=0,\n",
       "             warm_start=False),\n",
       " 'fit_params': None,\n",
       " 'iid': True,\n",
       " 'n_jobs': 1,\n",
       " 'param_grid': {'n_estimators': [50, 80, 100, 200, 300],\n",
       "  'criterion': ['gini', 'entropy'],\n",
       "  'max_depth': [3, 5, 10, 18, 20, 30]},\n",
       " 'pre_dispatch': '2*n_jobs',\n",
       " 'refit': True,\n",
       " 'return_train_score': 'warn',\n",
       " 'scoring': 'accuracy',\n",
       " 'verbose': 0}"
      ]
     },
     "execution_count": 144,
     "metadata": {},
     "output_type": "execute_result"
    }
   ],
   "source": [
    "classifier=RandomForestClassifier()\n",
    "from sklearn.model_selection import GridSearchCV\n",
    "\n",
    "grid = GridSearchCV(estimator=classifier, \n",
    "                    param_grid=grid_param,scoring='accuracy',cv=3)\n",
    "grid.fit(train[predictors],train[target])\n",
    "y_pred1 = grid.predict(test[predictors])\n",
    "grid.get_params(deep=True)\n"
   ]
  },
  {
   "cell_type": "code",
   "execution_count": 153,
   "metadata": {},
   "outputs": [
    {
     "data": {
      "text/plain": [
       "0.0    5806\n",
       "Name: 0, dtype: int64"
      ]
     },
     "execution_count": 153,
     "metadata": {},
     "output_type": "execute_result"
    }
   ],
   "source": [
    "df=pd.DataFrame(y_pred1)\n",
    "#df.head()\n",
    "df.iloc[:,0].value_counts()"
   ]
  },
  {
   "cell_type": "code",
   "execution_count": 137,
   "metadata": {},
   "outputs": [
    {
     "name": "stdout",
     "output_type": "stream",
     "text": [
      "Predictors: ['principal component 1', 'principal component 2', 'principal component 3', 'principal component 4', 'principal component 5', 'principal component 6', 'principal component 7', 'principal component 8', 'principal component 9', 'principal component 10', 'principal component 11', 'principal component 12', 'principal component 13', 'principal component 14', 'principal component 15', 'principal component 16', 'principal component 17', 'principal component 18', 'principal component 19', 'principal component 20', 'ID']\n",
      "F1 SCORE train 0.9389269901839097\n",
      "F1 SCORE test 0.8667553692527856\n"
     ]
    }
   ],
   "source": [
    "#4.Random Forest\n",
    "from sklearn.ensemble import RandomForestClassifier\n",
    "predictors=[x for x in train.columns if x not in [IDcol,target,target1]]\n",
    "print('Predictors:',predictors)\n",
    "alg1=RandomForestClassifier(n_estimators=1000,max_depth=25,min_samples_leaf=50)\n",
    "modelfit(alg1,train,test,predictors,target,IDcol,'res_RanFst.csv')"
   ]
  },
  {
   "cell_type": "code",
   "execution_count": 138,
   "metadata": {},
   "outputs": [
    {
     "data": {
      "text/plain": [
       "0.0    5806\n",
       "Name: TARGET, dtype: int64"
      ]
     },
     "execution_count": 138,
     "metadata": {},
     "output_type": "execute_result"
    }
   ],
   "source": [
    "#test.TARGET.value_counts()\n",
    "res1 = pd.read_csv(\"res_RanFst.csv\")\n",
    "res1.TARGET.value_counts()"
   ]
  },
  {
   "cell_type": "code",
   "execution_count": 135,
   "metadata": {},
   "outputs": [
    {
     "name": "stdout",
     "output_type": "stream",
     "text": [
      "[[123  69]\n",
      " [ 11 411]]\n"
     ]
    }
   ],
   "source": [
    "#5.AdaBoost\n",
    "from sklearn.ensemble import AdaBoostClassifier\n",
    "predictors = [x for x in train.columns if x not in [target]+IDcol]\n",
    "# print predictors\n",
    "alg1 = AdaBoostClassifier(n_estimators=200)\n",
    "modelfit(alg1, train, test, predictors, target, IDcol, 'res_Adabst.csv')"
   ]
  },
  {
   "cell_type": "code",
   "execution_count": 149,
   "metadata": {},
   "outputs": [
    {
     "name": "stdout",
     "output_type": "stream",
     "text": [
      "[[180  12]\n",
      " [  5 417]]\n"
     ]
    }
   ],
   "source": [
    "#6.XGBoost\n",
    "from xgboost import XGBClassifier\n",
    "predictors = [x for x in train.columns if x not in [target]+IDcol]\n",
    "alg1 = XGBClassifier(max_depth=10, n_estimators=100, learning_rate=0.05)\n",
    "modelfit(alg1, train, test, predictors, target, IDcol, 'res_xgbst.csv')"
   ]
  },
  {
   "cell_type": "code",
   "execution_count": 187,
   "metadata": {},
   "outputs": [
    {
     "name": "stdout",
     "output_type": "stream",
     "text": [
      "[[192   0]\n",
      " [  0 422]]\n",
      "Accuracy of classifier on train set: 1.00\n"
     ]
    }
   ],
   "source": [
    "#7.Stacking\n",
    "from sklearn import model_selection\n",
    "from sklearn.linear_model import LogisticRegression\n",
    "from sklearn.neighbors import KNeighborsClassifier\n",
    "from sklearn.ensemble import RandomForestClassifier\n",
    "from sklearn.tree import DecisionTreeClassifier\n",
    "from mlxtend.classifier import StackingClassifier\n",
    "import numpy as np\n",
    "\n",
    "clf1=KNeighborsClassifier(n_neighbors=1)\n",
    "clf2=RandomForestClassifier(random_state=1)\n",
    "clf3=DecisionTreeClassifier()\n",
    "lr=LogisticRegression()\n",
    "alg1=StackingClassifier(classifiers=[clf1,clf2,clf3],meta_classifier=lr)\n",
    "modelfit(alg1, train, test, predictors, target, IDcol, 'res_stack.csv')"
   ]
  },
  {
   "cell_type": "code",
   "execution_count": 186,
   "metadata": {},
   "outputs": [],
   "source": [
    "StackingClassifier?\n",
    "for clf,label in zip([clf1,clf2,clf3,sclf],\n",
    "                    ['KNN', \n",
    "                       'Random Forest', \n",
    "                       'Decision Tree',\n",
    "                       'Stacking Regressor']):\n",
    "    #Error Metrics\n",
    "    confusion_matrix = confusion_matrix(train[target], sclf.)\n",
    "    print(confusion_matrix)\n",
    "    \n",
    "    #Accuracy\n",
    "    print('Accuracy of classifier on train set: {:.2f}'.format(lr.score(train[predictors],train[target])))"
   ]
  },
  {
   "cell_type": "code",
   "execution_count": null,
   "metadata": {},
   "outputs": [],
   "source": []
  }
 ],
 "metadata": {
  "kernelspec": {
   "display_name": "Python 3",
   "language": "python",
   "name": "python3"
  },
  "language_info": {
   "codemirror_mode": {
    "name": "ipython",
    "version": 3
   },
   "file_extension": ".py",
   "mimetype": "text/x-python",
   "name": "python",
   "nbconvert_exporter": "python",
   "pygments_lexer": "ipython3",
   "version": "3.6.5"
  }
 },
 "nbformat": 4,
 "nbformat_minor": 2
}
